{
 "cells": [
  {
   "cell_type": "code",
   "execution_count": null,
   "id": "d3a3fdc4",
   "metadata": {},
   "outputs": [
    {
     "name": "stdout",
     "output_type": "stream",
     "text": [
      "Hello,Farhan\n"
     ]
    }
   ],
   "source": [
    "\n",
    "print(\"Hello,Farhan\")"
   ]
  },
  {
   "cell_type": "code",
   "execution_count": 4,
   "id": "75a80338",
   "metadata": {},
   "outputs": [
    {
     "name": "stdout",
     "output_type": "stream",
     "text": [
      "Hello,Ahtisham\n"
     ]
    }
   ],
   "source": [
    "print(\"Hello,Ahtisham\")"
   ]
  },
  {
   "cell_type": "markdown",
   "id": "8bf3752a",
   "metadata": {},
   "source": [
    "### Testing"
   ]
  },
  {
   "cell_type": "code",
   "execution_count": 3,
   "id": "e6192284",
   "metadata": {},
   "outputs": [
    {
     "name": "stdout",
     "output_type": "stream",
     "text": [
      "Hello,Farhan 1\n"
     ]
    }
   ],
   "source": [
    "print(\"Hello,Farhan 1\")"
   ]
  },
  {
   "cell_type": "code",
   "execution_count": null,
   "id": "b795e4d4",
   "metadata": {},
   "outputs": [],
   "source": []
  },
  {
   "cell_type": "code",
   "execution_count": null,
   "id": "27ab0798",
   "metadata": {},
   "outputs": [],
   "source": []
  }
 ],
 "metadata": {
  "kernelspec": {
   "display_name": "base",
   "language": "python",
   "name": "python3"
  },
  "language_info": {
   "codemirror_mode": {
    "name": "ipython",
    "version": 3
   },
   "file_extension": ".py",
   "mimetype": "text/x-python",
   "name": "python",
   "nbconvert_exporter": "python",
   "pygments_lexer": "ipython3",
   "version": "3.13.5"
  }
 },
 "nbformat": 4,
 "nbformat_minor": 5
}
